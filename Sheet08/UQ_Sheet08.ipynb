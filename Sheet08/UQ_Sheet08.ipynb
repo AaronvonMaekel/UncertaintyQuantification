{
 "cells": [
  {
   "cell_type": "code",
   "execution_count": 4,
   "id": "fdbd69ec",
   "metadata": {},
   "outputs": [],
   "source": [
    "import numpy as np\n",
    "import scipy.stats.qmc as qmc\n",
    "import matplotlib.pyplot as plt\n",
    "import numpy.random as random\n",
    "\n",
    "import scipy as sp\n",
    "import scipy.integrate as integrate\n",
    "\n",
    "from tqdm import tqdm \n",
    "\n",
    "GENERATOR = np.random.default_rng(seed=None)"
   ]
  },
  {
   "cell_type": "markdown",
   "id": "696bbd34",
   "metadata": {},
   "source": [
    "# Exericse sheet 8"
   ]
  },
  {
   "cell_type": "markdown",
   "id": "a8cf68d5",
   "metadata": {},
   "source": [
    "## Exercise 4 (Two simple QMC test problems)"
   ]
  },
  {
   "cell_type": "code",
   "execution_count": 5,
   "id": "893b3f9f",
   "metadata": {},
   "outputs": [],
   "source": [
    "### FINITE ELEMENT STUFF\n",
    "\n",
    "def kappa(\n",
    "    x: float,  # Evaluation point\n",
    "    q: float,\n",
    "    omegas: np.array,\n",
    ") -> float:\n",
    "    kappa = np.zeros(len(x))\n",
    "    for j in range(1, len(omegas) + 1):\n",
    "        # Compute corresponding basis function.\n",
    "        a = (1 / j ** q) * np.sin(2 * j * np.pi * x)\n",
    "        kappa += omegas[j - 1] * a\n",
    "    \n",
    "    return np.exp(kappa)\n",
    "\n",
    "def create_stiffness_matrix(\n",
    "    N: int,\n",
    "    q: float,\n",
    "    omegas: np.array,\n",
    "):\n",
    "    h = 1 / (N - 1)\n",
    "    diagonals = [np.empty((N - 1)), np.empty((N)), np.empty((N - 1))]\n",
    "    TRAPEZ_POINTS = 21\n",
    "    for i in range(len(diagonals[1])):\n",
    "        #diagonals[1][i] = 1/(h**2) * integrate.quad(lambda x: kappa(x, q, omegas), h*(i-1), h*(i+1))[0]\n",
    "        x = np.linspace(h*(i-1), h*(i+1),TRAPEZ_POINTS)\n",
    "        y = kappa(x, q,  omegas)\n",
    "        diagonals[1][i]  =    np.trapz(y, x)\n",
    "    for i in range(len(diagonals[0])):\n",
    "        #diagonals[0][i] = -1/(h**2) * integrate.quad(lambda x: kappa(x, q, omegas), h*(i), h*(i+1))[0]\n",
    "       \n",
    "        x = np.linspace( h*(i), h*(i+1),TRAPEZ_POINTS)\n",
    "        y = kappa(x, q, omegas)\n",
    "        diagonals[0][i]  =    np.trapz(y, x)\n",
    "\n",
    "        diagonals[2][i] = diagonals[0][i]\n",
    "    # Impose boundary conditions.\n",
    "    diagonals[0][0] = 0\n",
    "    diagonals[2][0] = 0\n",
    "    diagonals[0][-1] = 0\n",
    "    diagonals[2][-1] = 0\n",
    "    \n",
    "    mat = sp.sparse.diags(diagonals, [-1, 0, 1])\n",
    "\n",
    "    return mat\n",
    "\n",
    "\n",
    "def create_rhs(N: int, f):\n",
    "    h = 1 / (N - 1)\n",
    "    TRAPEZ_POINTS = 21\n",
    "    vec = np.empty((N))\n",
    "\n",
    "    for i in range(len(vec)):\n",
    "        #vec[i] = integrate.quad(lambda x: f(x)*(1-abs(h*i-x)/h), h*(i-1), h*(i+1))[0]\n",
    "        x = np.linspace(h*(i-1), h*(i+1),TRAPEZ_POINTS)\n",
    "        y = f(x)*(1-abs(h*i-x)/h)\n",
    "        vec[i] =    np.trapz(y, x)\n",
    "    # Impose boundary conditions.\n",
    "    vec[0] = 0\n",
    "    vec[-1] = 0\n",
    "\n",
    "    return vec\n",
    "\n"
   ]
  },
  {
   "cell_type": "code",
   "execution_count": 6,
   "id": "366f5fbe",
   "metadata": {},
   "outputs": [],
   "source": [
    "###GENERATING VECTORS FOR LATTICE RULE\n",
    "\n",
    "def generating_vectors(s, N=None):\n",
    "    # Source: https://wsc.project.cwi.nl/woudschoten-conferences/2016-woudschoten-conference/FKtalk1.pdf, Slide 14\n",
    "    if s==2:\n",
    "        return np.array([1, 19])\n",
    "    if s==10:# Source: https://people.cs.kuleuven.be/~dirk.nuyens/qmc-generators/LATSEQ/exew_base2_m20_a3_HKKN.txt\n",
    "        return np.array([1, 364981, 245389, 97823, 488939, 62609, 400749, 385317, 21281, 223487])\n",
    "    else:\n",
    "        return generate_custom_vectors(N,s)\n",
    "\n",
    "def generate_custom_vectors(N,s):\n",
    "    \n",
    "    def B_2(x):\n",
    "        return np.power(x,2)-x + (1/6)\n",
    "    \n",
    "    U_N = np.gcd(np.arange(0,N), N)\n",
    "    U_N = np.arange(N)[U_N==1]\n",
    "    z = np.empty(s)\n",
    "    p = np.ones(N)\n",
    "    #print(\"U_N\",U_N)\n",
    "     \n",
    "    G_N = B_2(np.modf(np.outer(U_N,np.arange(N))/N )[0])\n",
    "    #print(\"G_N\",G_N )\n",
    "    #print(\"GN SHAPE\",G_N.shape)\n",
    "    #print(\"sum\",np.sum(G_N,axis=0))\n",
    "    #print(\"sum SHAPE\",np.sum(G_N,axis=0).shape)\n",
    "    z[0]=1\n",
    "      \n",
    "    for i in range(1,s):\n",
    "        #print(\"p:\",p)\n",
    "        delta = (1/N)*np.inner(G_N,p )\n",
    "        #print(\"delta\",delta.shape)\n",
    "        #print(\"argmin delta\",np.argmin(delta))\n",
    "        z[i]= U_N[np.argmin(delta)]\n",
    "        p = np.multiply((np.ones(N) + G_N[i]),p)\n",
    "    return z\n",
    "\n",
    "#generate_custom_vectors(64,2)"
   ]
  },
  {
   "cell_type": "code",
   "execution_count": 7,
   "id": "848c2a5f",
   "metadata": {},
   "outputs": [],
   "source": [
    "## LATTICE POINTS\n",
    "\n",
    "def generate_lattice_points(\n",
    "    z,  # generating vector\n",
    "    m,  # 2 ** m number of points\n",
    "    shift = False,\n",
    "    previous_lattice=np.array([]),  # reuse points from previous lattice\n",
    "    \n",
    "):\n",
    "    def shift_points(s: int, points: np.array):\n",
    "        shift_vector = np.random.uniform(0, 1, s)\n",
    "        \n",
    "        return np.modf(points + shift_vector)[0]\n",
    "    \n",
    "    def generate(index):\n",
    "        return np.modf(\n",
    "            np.reshape(index, (-1, 1)) * z / N\n",
    "        )[0]\n",
    "\n",
    "    # Set number of points.\n",
    "    N = 2 ** m\n",
    "    \n",
    "    rows = np.arange(0, N, 1)\n",
    "\n",
    "    if previous_lattice.size == 0:\n",
    "        # Generate first lattice.\n",
    "        new_lattice = generate(rows)\n",
    "    else:\n",
    "        new_lattice = np.empty([N, z.size])\n",
    "        \n",
    "        even_rows = rows[rows % 2 == 0]\n",
    "        odd_rows = rows[rows % 2 == 1]\n",
    "        \n",
    "        new_lattice[even_rows] = previous_lattice\n",
    "        new_lattice[odd_rows] = generate(odd_rows)\n",
    "    \n",
    "    if shift:\n",
    "        new_lattice = shift_points(len(z),new_lattice)\n",
    "    \n",
    "    return new_lattice -0.5\n",
    "\n"
   ]
  },
  {
   "cell_type": "code",
   "execution_count": 8,
   "id": "ea5b3fbc",
   "metadata": {},
   "outputs": [],
   "source": [
    "### SOBOL POINTS\n",
    "\n",
    "def generate_sobol_points(\n",
    "    s: int,\n",
    "    m: int,\n",
    "    scramble=True,\n",
    "    generator=None\n",
    "):\n",
    "    sampler = qmc.Sobol(d=s, scramble=scramble,seed=generator.integers(10**8))\n",
    "    return sampler.random_base2(m=m) - 0.5"
   ]
  },
  {
   "cell_type": "code",
   "execution_count": 11,
   "id": "8775cc62",
   "metadata": {},
   "outputs": [],
   "source": [
    "### MONTE CARLO\n",
    "\n",
    "def MC(s,q,N_samples,h,sample_Var=False):\n",
    "     \n",
    "    N = int(1/h) +1 \n",
    "    MC_samples = np.empty(N_samples)\n",
    "     \n",
    "    \n",
    "    f = create_rhs(N, lambda x: 1)                    \n",
    "    for j in tqdm(range(N_samples)):\n",
    "        omegas = random.uniform(-0.5,0.5,s)\n",
    "        mat = create_stiffness_matrix(N, q, omegas)\n",
    "\n",
    "        u = sp.sparse.linalg.spsolve(mat, f)\n",
    "        MC_samples[j] = u[int((N - 1) * 0.7)]\n",
    "    MC_mean  = np.mean(MC_samples)\n",
    "\n",
    "    if sample_Var:\n",
    "        MC_var  = np.var(MC_samples,ddof=1)                  \n",
    "        return MC_mean,MC_var\n",
    "    else:\n",
    "        return MC_mean\n",
    "    "
   ]
  },
  {
   "cell_type": "code",
   "execution_count": 12,
   "id": "3b4618ec",
   "metadata": {},
   "outputs": [],
   "source": [
    "## QUASI-MONTE CARLO\n",
    "\n",
    "def QMC(s,q,m,h,R,sobol=True,sample_Var=False):\n",
    " \n",
    "\n",
    " \n",
    "    N_samples = 2**m\n",
    "    MC_mean = np.empty(shape=R)\n",
    "    MC_var= np.empty(shape=R)\n",
    "    for i in tqdm(range(R)):\n",
    "        \n",
    "        if sobol:\n",
    "            points=generate_sobol_points(s,m,scramble=True,generator=GENERATOR)\n",
    "        else:\n",
    "            z = generating_vectors(s, N=2**m)\n",
    "            points =generate_lattice_points(z,m,True)\n",
    "\n",
    "\n",
    "        \n",
    "        MC_samples = np.empty(N_samples)\n",
    "        \n",
    "        N = int(1/h) +1 \n",
    "        \n",
    "        f = create_rhs(N, lambda x: 1)                    \n",
    "        for j in range(N_samples):\n",
    "            omegas =  points[j]\n",
    "            mat = create_stiffness_matrix(N, q, omegas)\n",
    "\n",
    "            u = sp.sparse.linalg.spsolve(mat, f)\n",
    "            MC_samples[j] = u[int((N - 1) * 0.7)]\n",
    "        MC_mean[i] = np.mean(MC_samples)\n",
    "        if sample_Var:\n",
    "            MC_var[i]  = np.var(MC_samples,ddof=1)\n",
    "                \n",
    "    if sample_Var:    \n",
    "        return np.mean(MC_mean),np.mean(MC_var)\n",
    "    else:\n",
    "        return np.mean(MC_mean)\n"
   ]
  },
  {
   "cell_type": "markdown",
   "id": "30b20c2e",
   "metadata": {},
   "source": [
    "a) TESTING THE FUNCTIONS"
   ]
  },
  {
   "cell_type": "code",
   "execution_count": 13,
   "id": "16aacccc",
   "metadata": {},
   "outputs": [
    {
     "name": "stderr",
     "output_type": "stream",
     "text": [
      "  0%|          | 0/8192 [00:00<?, ?it/s]C:\\Users\\Aaron Maekel\\AppData\\Local\\Temp\\ipykernel_7084\\4031945572.py:14: SparseEfficiencyWarning: spsolve requires A be CSC or CSR matrix format\n",
      "  u = sp.sparse.linalg.spsolve(mat, f)\n",
      "100%|██████████| 8192/8192 [00:22<00:00, 361.32it/s]\n",
      "  0%|          | 0/8 [00:00<?, ?it/s]C:\\Users\\Aaron Maekel\\AppData\\Local\\Temp\\ipykernel_7084\\3147889133.py:29: SparseEfficiencyWarning: spsolve requires A be CSC or CSR matrix format\n",
      "  u = sp.sparse.linalg.spsolve(mat, f)\n",
      "100%|██████████| 8/8 [00:22<00:00,  2.80s/it]\n",
      "100%|██████████| 8/8 [00:22<00:00,  2.82s/it]\n"
     ]
    }
   ],
   "source": [
    "R=8\n",
    "m=10\n",
    "N_samples=(2**m) * R\n",
    "MC_res,MC_svar = MC(s=10,q=2,N_samples=N_samples,h=0.05,sample_Var=True)\n",
    "lattice_res,lattice_svar = QMC(s=10,q=2,m=m,R=R,h=0.05,sobol=False,sample_Var=True)\n",
    "sobol_res,sobol_svar = QMC(s=10,q=2,m=m,R=R,h=0.05,sobol=True,sample_Var=True)\n"
   ]
  },
  {
   "cell_type": "code",
   "execution_count": 16,
   "id": "68ab33ee",
   "metadata": {},
   "outputs": [
    {
     "name": "stdout",
     "output_type": "stream",
     "text": [
      "MC ESTIMATOR:                    0.010953589642425064  SAMPLE VARIANCE:  0.0052880905544996255\n",
      "QMC ESTIMATOR with lattice rule: 0.010459284869291666  SAMPLE VARIANCE:  0.005345585363143194\n",
      "QMC ESTIMATOR with sobol rule:   0.010469506352836546  SAMPLE VARIANCE:  0.005351991767562446\n"
     ]
    }
   ],
   "source": [
    "print(\"MC ESTIMATOR:                   \",MC_res,\" SAMPLE VARIANCE: \",MC_svar)\n",
    "print(\"QMC ESTIMATOR with lattice rule:\",lattice_res,\" SAMPLE VARIANCE: \",lattice_svar)\n",
    "print(\"QMC ESTIMATOR with sobol rule:  \",sobol_res,\" SAMPLE VARIANCE: \",sobol_svar)"
   ]
  },
  {
   "cell_type": "markdown",
   "id": "13f3d266",
   "metadata": {},
   "source": [
    "b) ERROR OF CONVERGENCE RATE"
   ]
  },
  {
   "cell_type": "code",
   "execution_count": null,
   "id": "629fc939",
   "metadata": {},
   "outputs": [
    {
     "name": "stderr",
     "output_type": "stream",
     "text": [
      "  0%|          | 0/8192 [00:00<?, ?it/s]C:\\Users\\Aaron Maekel\\AppData\\Local\\Temp\\ipykernel_7084\\4031945572.py:14: SparseEfficiencyWarning: spsolve requires A be CSC or CSR matrix format\n",
      "  u = sp.sparse.linalg.spsolve(mat, f)\n",
      "100%|██████████| 8192/8192 [00:22<00:00, 357.31it/s]\n",
      "  0%|          | 0/8 [00:00<?, ?it/s]C:\\Users\\Aaron Maekel\\AppData\\Local\\Temp\\ipykernel_7084\\3147889133.py:29: SparseEfficiencyWarning: spsolve requires A be CSC or CSR matrix format\n",
      "  u = sp.sparse.linalg.spsolve(mat, f)\n",
      "100%|██████████| 8/8 [00:23<00:00,  2.88s/it]\n",
      "100%|██████████| 8/8 [00:22<00:00,  2.81s/it]\n",
      "100%|██████████| 8192/8192 [00:22<00:00, 357.55it/s]\n",
      "100%|██████████| 8/8 [00:45<00:00,  5.70s/it]\n",
      "100%|██████████| 8/8 [00:45<00:00,  5.66s/it]\n",
      "100%|██████████| 8192/8192 [00:22<00:00, 358.37it/s]\n",
      "100%|██████████| 8/8 [01:29<00:00, 11.21s/it]\n",
      " 12%|█▎        | 1/8 [00:11<01:18, 11.16s/it]"
     ]
    }
   ],
   "source": [
    "R=8\n",
    "mmesh =np.arange(10,20)\n",
    "q=2\n",
    "N_samples=(2**m) * R\n",
    "MC_res = np.empty(len(mmesh))\n",
    "MC_svar  = np.empty(len(mmesh))\n",
    "lattice_res = np.empty(len(mmesh))\n",
    "lattice_svar = np.empty(len(mmesh))\n",
    "sobol_res = np.empty(len(mmesh))\n",
    "sobol_svar = np.empty(len(mmesh))\n",
    "i=0\n",
    "for m in mmesh:\n",
    "\n",
    "    MC_res[i], MC_svar[i] = MC(s=10,q=q,N_samples=N_samples,h=0.05,sample_Var=True)\n",
    "    lattice_res[i],lattice_svar[i] = QMC(s=10,q=q,m=m,R=R,h=0.05,sobol=False,sample_Var=True)\n",
    "    sobol_res[i],sobol_svar[i] = QMC(s=10,q=q,m=m,R=R,h=0.05,sobol=True,sample_Var=True)\n",
    "    i+=1"
   ]
  },
  {
   "cell_type": "code",
   "execution_count": 17,
   "id": "e3a91bfc",
   "metadata": {},
   "outputs": [
    {
     "ename": "NameError",
     "evalue": "name 'lattice_sample_var' is not defined",
     "output_type": "error",
     "traceback": [
      "\u001b[1;31m---------------------------------------------------------------------------\u001b[0m",
      "\u001b[1;31mNameError\u001b[0m                                 Traceback (most recent call last)",
      "Cell \u001b[1;32mIn[17], line 8\u001b[0m\n\u001b[0;32m      6\u001b[0m \u001b[38;5;66;03m# Plot the curves\u001b[39;00m\n\u001b[0;32m      7\u001b[0m plt\u001b[38;5;241m.\u001b[39mfigure(figsize\u001b[38;5;241m=\u001b[39m(\u001b[38;5;241m8\u001b[39m, \u001b[38;5;241m6\u001b[39m))\n\u001b[1;32m----> 8\u001b[0m plt\u001b[38;5;241m.\u001b[39mplot(R, \u001b[43mlattice_sample_var\u001b[49m, label\u001b[38;5;241m=\u001b[39m\u001b[38;5;124m\"\u001b[39m\u001b[38;5;124mlattice rule\u001b[39m\u001b[38;5;124m\"\u001b[39m, color\u001b[38;5;241m=\u001b[39m\u001b[38;5;124m'\u001b[39m\u001b[38;5;124mblue\u001b[39m\u001b[38;5;124m'\u001b[39m)\n\u001b[0;32m      9\u001b[0m plt\u001b[38;5;241m.\u001b[39mplot(R,sobol_sample_var, label\u001b[38;5;241m=\u001b[39m\u001b[38;5;124m\"\u001b[39m\u001b[38;5;124msobol rule\u001b[39m\u001b[38;5;124m\"\u001b[39m, color\u001b[38;5;241m=\u001b[39m\u001b[38;5;124m'\u001b[39m\u001b[38;5;124mred\u001b[39m\u001b[38;5;124m'\u001b[39m)\n\u001b[0;32m     10\u001b[0m \u001b[38;5;66;03m#plt.plot(R, y3, label=\"tan(x)\", color='green')\u001b[39;00m\n\u001b[0;32m     11\u001b[0m \n\u001b[0;32m     12\u001b[0m \n\u001b[0;32m     13\u001b[0m \n\u001b[0;32m     14\u001b[0m \u001b[38;5;66;03m# Adding labels and title\u001b[39;00m\n",
      "\u001b[1;31mNameError\u001b[0m: name 'lattice_sample_var' is not defined"
     ]
    },
    {
     "data": {
      "text/plain": [
       "<Figure size 800x600 with 0 Axes>"
      ]
     },
     "metadata": {},
     "output_type": "display_data"
    }
   ],
   "source": [
    "import matplotlib.pyplot as plt\n",
    " \n",
    "\n",
    " \n",
    " \n",
    "# Plot the curves\n",
    "plt.figure(figsize=(8, 6))\n",
    "plt.plot(R, lattice_sample_var, label=\"lattice rule\", color='blue')\n",
    "plt.plot(R,sobol_sample_var, label=\"sobol rule\", color='red')\n",
    "#plt.plot(R, y3, label=\"tan(x)\", color='green')\n",
    "\n",
    "\n",
    "\n",
    "# Adding labels and title\n",
    "plt.xlabel(\"R\")\n",
    "plt.ylabel(\"Sample Var\")\n",
    "plt.title(\"Three Different Sample variances depending on amount of realizations R:  \")\n",
    "\n",
    "# Show legend\n",
    "plt.legend()\n",
    "\n",
    "# Display the plot\n",
    "plt.yscale(\"log\")\n",
    "plt.grid(True)\n",
    "plt.show()\n"
   ]
  },
  {
   "cell_type": "markdown",
   "id": "da9c7846",
   "metadata": {},
   "source": [
    "USING DIFFERENT NUMBERS OF POINTS, ALSO COMPARING IT WITH MC:"
   ]
  },
  {
   "cell_type": "code",
   "execution_count": 115,
   "id": "78ef3329",
   "metadata": {},
   "outputs": [],
   "source": [
    "def MC_integrate(\n",
    "    fun, #chosen function\n",
    "    N,  # number of points\n",
    "    s,  # dimension\n",
    "     \n",
    "):\n",
    "    xs = np.random.uniform(0,1,(N,s))\n",
    "    return  fun(s, xs)"
   ]
  },
  {
   "cell_type": "code",
   "execution_count": null,
   "id": "8f81261d",
   "metadata": {},
   "outputs": [
    {
     "name": "stdout",
     "output_type": "stream",
     "text": [
      "[10 11 12 13 14 15 16 17 18 19 20]\n",
      "[5.20014520e-14 8.50432463e-12 4.73497866e-17 1.07355063e-32\n",
      " 7.10542736e-15 1.94829558e-32 5.64608108e-32 1.74948991e-32\n",
      " 5.56655881e-33 9.42338884e-32 1.94829558e-32]\n",
      "[8.92682504e-08 9.73321649e-08 8.97213939e-08 8.74922421e-08\n",
      " 9.33803370e-08 1.10324462e-07 5.85632655e-08 1.05237005e-07\n",
      " 1.02419842e-07 1.16855306e-07 8.47051143e-08]\n",
      "[0.99924399 1.00067689 0.99805051 1.00005737 0.99967701 1.00013773\n",
      " 1.00009321 1.00022504 0.99985314 1.000048   0.99999016]\n",
      "[0.08958007 0.08978178 0.08998511 0.09016992 0.08986143 0.09017887\n",
      " 0.09012418 0.09020326 0.09018512 0.09016346 0.0901705 ]\n"
     ]
    }
   ],
   "source": [
    "s=10\n",
    "R=32\n",
    "\n",
    "mmesh = np.arange(10,21)\n",
    "print(mmesh)\n",
    "sobol_est = np.empty(len(mmesh))\n",
    "sobol_sample_var = np.empty(len(mmesh)) \n",
    "lattice_est = np.empty(len(mmesh))\n",
    "lattice_sample_var = np.empty(len(mmesh)) \n",
    "\n",
    "MC_est = np.empty(len(mmesh)) \n",
    "MC_sample_var =  np.empty(len(mmesh)) \n",
    "i=0\n",
    "for m in mmesh:\n",
    "    \n",
    "    z = generating_vectors(s)\n",
    "    points = generate_lattice_points(z, m)\n",
    "\n",
    "    MCs=   MC_integrate(g, 2**m*R,s)\n",
    "    MC_est[i] = np.mean(MCs)\n",
    "    MC_sample_var[i] =  np.var(MCs,ddof=1)\n",
    "    \n",
    "    \n",
    "    sobol_estimates = []\n",
    "    lattice_estimates = []\n",
    "    for _ in range(R):\n",
    "        scrambled_points = generate_sobol_points(s, int(m), scramble=True)\n",
    "        sobol_estimates.append(\n",
    "            np.mean(g(s, scrambled_points))\n",
    "        )\n",
    "        shifted_points = shift_points(s, points)\n",
    "        lattice_estimates.append(\n",
    "            np.mean(g(s, shifted_points))\n",
    "        )\n",
    "        \n",
    "    sobol_est[i] = np.mean(np.array(sobol_estimates))\n",
    "    sobol_sample_var[i] = np.var(sobol_estimates,ddof=1)\n",
    "    lattice_est[i] = np.mean(np.array(lattice_estimates))\n",
    "    lattice_sample_var[i] = np.var(lattice_estimates,ddof=1)\n",
    "    i+=1\n",
    "print(sobol_sample_var)\n",
    "print(lattice_sample_var)\n",
    "print(MC_est)\n",
    "print(MC_sample_var)"
   ]
  },
  {
   "cell_type": "code",
   "execution_count": null,
   "id": "4c305f83",
   "metadata": {},
   "outputs": [
    {
     "data": {
      "image/png": "[encoded data removed]",
      "text/plain": [
       "<Figure size 800x600 with 1 Axes>"
      ]
     },
     "metadata": {},
     "output_type": "display_data"
    }
   ],
   "source": [
    "import matplotlib.pyplot as plt\n",
    " \n",
    "\n",
    " \n",
    " \n",
    "# Plot the curves\n",
    "plt.figure(figsize=(8, 6))\n",
    "plt.plot(mmesh, lattice_sample_var, label=\"lattice rule\", color='blue')\n",
    "plt.plot(mmesh,sobol_sample_var, label=\"sobol rule\", color='red')\n",
    "plt.plot(mmesh,MC_sample_var, label=\"MC\", color='black')\n",
    "#plt.plot(R, y3, label=\"tan(x)\", color='green')\n",
    "\n",
    "\n",
    "\n",
    "# Adding labels and title\n",
    "plt.xlabel(\"m\")\n",
    "plt.ylabel(\"Sample Var\")\n",
    "plt.title(\"(s=10) Three Different Sample variances depending on amount of points 2**m:  \")\n",
    "\n",
    "# Show legend\n",
    "plt.legend()\n",
    "\n",
    "# Display the plot\n",
    "plt.yscale(\"log\")\n",
    "plt.grid(True)\n",
    "plt.show()\n"
   ]
  },
  {
   "cell_type": "markdown",
   "id": "4be4cd3d",
   "metadata": {},
   "source": [
    "COMPARING LOW VS HIGH DIMENSIONALITY, (FIXED AMOUNT OF POINTS)"
   ]
  },
  {
   "cell_type": "code",
   "execution_count": 207,
   "id": "1f35e60e",
   "metadata": {},
   "outputs": [
    {
     "name": "stdout",
     "output_type": "stream",
     "text": [
      "[1.86264515e-09 1.98805672e-33 2.12757388e-12 1.86304048e-09\n",
      " 1.86264507e-09 1.17958449e-10 1.81516429e-18 2.91503044e-11]\n",
      "[7.22388554e-08 7.39547635e-08 9.14355713e-08 6.74891229e-08\n",
      " 9.21797233e-08 8.73113436e-08 5.07458500e-08 7.61903377e-08]\n",
      "[0.08919408 0.08941684 0.09013465 0.09003096 0.09056535 0.08939441\n",
      " 0.08991001 0.09050992]\n"
     ]
    }
   ],
   "source": [
    "smesh= np.arange(2,10)\n",
    "R=32\n",
    "m=10\n",
    " \n",
    "\n",
    "sobol_est = np.empty(len(smesh))\n",
    "sobol_sample_var = np.empty(len(smesh)) \n",
    "lattice_est = np.empty(len(smesh))\n",
    "lattice_sample_var = np.empty(len(smesh)) \n",
    "\n",
    "MC_est = np.empty(len(smesh)) \n",
    "MC_sample_var =  np.empty(len(smesh)) \n",
    "i=0\n",
    "for s in smesh:\n",
    "    #generate new points for lattice rule\n",
    "    z = generating_vectors(s,2**m)\n",
    "    points = generate_lattice_points(z, m)\n",
    "\n",
    "    MCs=   MC_integrate(g, 2**m*R,s)\n",
    "    MC_est[i] = np.mean(MCs)\n",
    "    MC_sample_var[i] =  np.var(MCs,ddof=1)\n",
    "    \n",
    "    \n",
    "    sobol_estimates = []\n",
    "    lattice_estimates = []\n",
    "    for _ in range(R):\n",
    "        scrambled_points = generate_sobol_points(s, int(m), scramble=True)\n",
    "        sobol_estimates.append(\n",
    "            np.mean(g(s, scrambled_points))\n",
    "        )\n",
    "        shifted_points = shift_points(s, points)\n",
    "        lattice_estimates.append(\n",
    "            np.mean(g(s, shifted_points))\n",
    "        )\n",
    "        \n",
    "    sobol_est[i] = np.mean(np.array(sobol_estimates))\n",
    "    sobol_sample_var[i] = np.var(sobol_estimates,ddof=1)\n",
    "    lattice_est[i] = np.mean(np.array(lattice_estimates))\n",
    "    lattice_sample_var[i] = np.var(lattice_estimates,ddof=1)\n",
    "    i+=1\n",
    "print(sobol_sample_var)\n",
    "print(lattice_sample_var)\n",
    "print(MC_sample_var)"
   ]
  },
  {
   "cell_type": "code",
   "execution_count": 208,
   "id": "bc3c3e99",
   "metadata": {},
   "outputs": [
    {
     "data": {
      "image/png": "[encoded data removed]",
      "text/plain": [
       "<Figure size 800x600 with 1 Axes>"
      ]
     },
     "metadata": {},
     "output_type": "display_data"
    }
   ],
   "source": [
    "import matplotlib.pyplot as plt\n",
    " \n",
    "\n",
    " \n",
    " \n",
    "# Plot the curves\n",
    "plt.figure(figsize=(8, 6))\n",
    "plt.plot(smesh, lattice_sample_var, label=\"lattice rule\", color='blue')\n",
    "plt.plot(smesh,sobol_sample_var, label=\"sobol rule\", color='red')\n",
    "plt.plot(smesh,MC_sample_var, label=\"MC\", color='black')\n",
    "#plt.plot(R, y3, label=\"tan(x)\", color='green')\n",
    "\n",
    "\n",
    "\n",
    "# Adding labels and title\n",
    "plt.xlabel(\"s\")\n",
    "plt.ylabel(\"Sample Var\")\n",
    "plt.title(\" Three Different Sample variances depending on amount of points dimension  with fixed points:  \")\n",
    "\n",
    "# Show legend\n",
    "plt.legend()\n",
    "\n",
    "# Display the plot\n",
    "plt.yscale(\"log\")\n",
    "plt.grid(True)\n",
    "plt.show()\n"
   ]
  }
 ],
 "metadata": {
  "kernelspec": {
   "display_name": "uncer2",
   "language": "python",
   "name": "python3"
  },
  "language_info": {
   "codemirror_mode": {
    "name": "ipython",
    "version": 3
   },
   "file_extension": ".py",
   "mimetype": "text/x-python",
   "name": "python",
   "nbconvert_exporter": "python",
   "pygments_lexer": "ipython3",
   "version": "3.12.3"
  }
 },
 "nbformat": 4,
 "nbformat_minor": 5
}
