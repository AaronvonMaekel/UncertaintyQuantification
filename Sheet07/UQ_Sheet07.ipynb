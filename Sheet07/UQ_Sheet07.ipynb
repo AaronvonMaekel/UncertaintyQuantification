{
 "cells": [
  {
   "cell_type": "code",
   "execution_count": 100,
   "id": "fdbd69ec",
   "metadata": {},
   "outputs": [],
   "source": [
    "import numpy as np\n",
    "import scipy.stats.qmc as qmc"
   ]
  },
  {
   "cell_type": "markdown",
   "id": "696bbd34",
   "metadata": {},
   "source": [
    "# Exericse sheet 7"
   ]
  },
  {
   "cell_type": "markdown",
   "id": "a8cf68d5",
   "metadata": {},
   "source": [
    "## Exercise 2 (Two simple QMC test problems)"
   ]
  },
  {
   "cell_type": "code",
   "execution_count": 101,
   "id": "5d475fd9",
   "metadata": {},
   "outputs": [],
   "source": [
    "generating_vectors = {\n",
    "    # Source: https://wsc.project.cwi.nl/woudschoten-conferences/2016-woudschoten-conference/FKtalk1.pdf, Slide 14\n",
    "    2: np.array([1, 19])\n",
    "    # Source: https://people.cs.kuleuven.be/~dirk.nuyens/qmc-generators/LATSEQ/exew_base2_m20_a3_HKKN.txt\n",
    "    10: np.array([1, 364981, 245389, 97823, 488939, 62609, 400749, 385317, 21281, 223487])\n",
    "}"
   ]
  },
  {
   "cell_type": "code",
   "execution_count": null,
   "id": "d6eec268",
   "metadata": {},
   "outputs": [],
   "source": [
    "def f(s: int, points: np.array) -> np.array:\n",
    "    x = points.copy()\n",
    "    C = (2 + 1 / (2 * s)) ** s\n",
    "\n",
    "    x = x ** (1 + 1 / (2 * s))\n",
    "\n",
    "    return C * np.prod(x, axis=1)\n",
    "\n",
    "def g(s: int, points: np.array) -> np.array:\n",
    "    x = points.copy()\n",
    "    \n",
    "    x = (x - 1 / 2) / np.arange(1, s + 1) ** 2\n",
    "    \n",
    "    return 1 + np.sum(x, axis=1)"
   ]
  },
  {
   "cell_type": "code",
   "execution_count": 151,
   "id": "848c2a5f",
   "metadata": {},
   "outputs": [],
   "source": [
    "def generate_lattice_points(\n",
    "    z,  # generating vector\n",
    "    m,  # 2 ** m number of points\n",
    "    previous_lattice=np.array([]),  # reuse points from previous lattice\n",
    "):\n",
    "    def generate(index):\n",
    "        return np.modf(\n",
    "            np.reshape(index, (-1, 1)) * z / N\n",
    "        )[0]\n",
    "\n",
    "    # Set number of points.\n",
    "    N = 2 ** m\n",
    "    \n",
    "    rows = np.arange(0, N, 1)\n",
    "\n",
    "    if previous_lattice.size == 0:\n",
    "        # Generate first lattice.\n",
    "        new_lattice = generate(rows)\n",
    "    else:\n",
    "        new_lattice = np.empty([N, z.size])\n",
    "        \n",
    "        even_rows = rows[rows % 2 == 0]\n",
    "        odd_rows = rows[rows % 2 == 1]\n",
    "        \n",
    "        new_lattice[even_rows] = previous_lattice\n",
    "        new_lattice[odd_rows] = generate(odd_rows)\n",
    "    \n",
    "    return new_lattice\n",
    "\n",
    "def shift_points(s: int, points: np.array):\n",
    "    shift_vector = np.random.uniform(0, 1, s)\n",
    "    \n",
    "    return np.modf(points + shift_vector)[0]"
   ]
  },
  {
   "cell_type": "code",
   "execution_count": 152,
   "id": "ea5b3fbc",
   "metadata": {},
   "outputs": [],
   "source": [
    "def generate_sobol_points(\n",
    "    s: int,\n",
    "    m: int,\n",
    "    scramble=True,\n",
    "):\n",
    "    sampler = qmc.Sobol(d=s, scramble=scramble)\n",
    "    return sampler.random_base2(m=m)"
   ]
  },
  {
   "cell_type": "code",
   "execution_count": 355,
   "id": "9f43b293",
   "metadata": {},
   "outputs": [],
   "source": [
    "def riemann_product_rule(\n",
    "    N,  # number of intervals\n",
    "    s,  # dimension\n",
    "):\n",
    "    h = 1 / N  # interval size\n",
    "    n = N + 1  # number of points\n",
    "    \n",
    "    points = np.meshgrid(*[np.linspace(0, 1, n) for _ in range(s)])\n",
    "    points = np.array(points).T.reshape(-1, s)\n",
    "    \n",
    "    weights = np.full(points.shape[0], h ** s)\n",
    "    \n",
    "    return np.sum(f(s, points) * weights)"
   ]
  },
  {
   "cell_type": "code",
   "execution_count": 352,
   "id": "558a6c23",
   "metadata": {},
   "outputs": [],
   "source": [
    "s = 10\n",
    "z = generating_vectors[s]\n",
    "m = 10"
   ]
  },
  {
   "cell_type": "code",
   "execution_count": 353,
   "id": "bec82520",
   "metadata": {},
   "outputs": [
    {
     "data": {
      "text/plain": [
       "0.9996513237528162"
      ]
     },
     "execution_count": 353,
     "metadata": {},
     "output_type": "execute_result"
    }
   ],
   "source": [
    "points = generate_lattice_points(z, m)\n",
    "np.mean(f(s, points))"
   ]
  },
  {
   "cell_type": "code",
   "execution_count": 354,
   "id": "73f810b5",
   "metadata": {},
   "outputs": [
    {
     "data": {
      "text/plain": [
       "1.0396389683923086"
      ]
     },
     "execution_count": 354,
     "metadata": {},
     "output_type": "execute_result"
    }
   ],
   "source": [
    "points = generate_sobol_points(s, m, scramble=False)\n",
    "np.mean(f(s, points))"
   ]
  },
  {
   "cell_type": "code",
   "execution_count": 363,
   "id": "ae23b081",
   "metadata": {},
   "outputs": [
    {
     "data": {
      "text/plain": [
       "1.0879442561108281"
      ]
     },
     "execution_count": 363,
     "metadata": {},
     "output_type": "execute_result"
    }
   ],
   "source": [
    "riemann_product_rule(50, 4)"
   ]
  },
  {
   "cell_type": "markdown",
   "id": "84cf77c3",
   "metadata": {},
   "source": [
    "### Part (a)\n",
    "\n",
    "Compute the error for different $N$ and $s$ and compare the results for the product rules from Exercise Sheet 1."
   ]
  },
  {
   "cell_type": "markdown",
   "id": "d66041af",
   "metadata": {},
   "source": [
    "### Part (b)"
   ]
  },
  {
   "cell_type": "code",
   "execution_count": 181,
   "id": "0824f56f",
   "metadata": {},
   "outputs": [],
   "source": [
    "R = [8, 16, 32]"
   ]
  },
  {
   "cell_type": "code",
   "execution_count": 164,
   "id": "32c03ccf",
   "metadata": {},
   "outputs": [],
   "source": [
    "points = generate_lattice_points(z, m)\n",
    "estimates = []\n",
    "\n",
    "for _ in range(N_sample):\n",
    "    shifted_points = shift_points(s, points)\n",
    "    estimates.append(\n",
    "        np.mean(f(s, shifted_points))\n",
    "    )\n",
    "    \n",
    "lattice_estimate = np.mean(np.array(estimates))"
   ]
  },
  {
   "cell_type": "code",
   "execution_count": 165,
   "id": "af2ff21c",
   "metadata": {},
   "outputs": [
    {
     "data": {
      "text/plain": [
       "0.001553888962271932"
      ]
     },
     "execution_count": 165,
     "metadata": {},
     "output_type": "execute_result"
    }
   ],
   "source": [
    "latice_error = np.abs(true_value - lattice_estimate)\n",
    "latice_error"
   ]
  },
  {
   "cell_type": "code",
   "execution_count": 167,
   "id": "54bbae8c",
   "metadata": {},
   "outputs": [],
   "source": [
    "estimates = []\n",
    "\n",
    "for _ in range(N_sample):\n",
    "    scrambled_points = generate_sobol_points(s, m, scramble=True)\n",
    "    estimates.append(\n",
    "        np.mean(f(s, scrambled_points))\n",
    "    )\n",
    "    \n",
    "sobol_estimate = np.mean(np.array(estimates))"
   ]
  },
  {
   "cell_type": "code",
   "execution_count": 169,
   "id": "6fd7dcc7",
   "metadata": {},
   "outputs": [
    {
     "data": {
      "text/plain": [
       "0.0010301615550634136"
      ]
     },
     "execution_count": 169,
     "metadata": {},
     "output_type": "execute_result"
    }
   ],
   "source": [
    "sobol_error = np.abs(true_value - sobol_estimate)\n",
    "sobol_error"
   ]
  }
 ],
 "metadata": {
  "kernelspec": {
   "display_name": "Python 3 (ipykernel)",
   "language": "python",
   "name": "python3"
  },
  "language_info": {
   "codemirror_mode": {
    "name": "ipython",
    "version": 3
   },
   "file_extension": ".py",
   "mimetype": "text/x-python",
   "name": "python",
   "nbconvert_exporter": "python",
   "pygments_lexer": "ipython3",
   "version": "3.12.3"
  }
 },
 "nbformat": 4,
 "nbformat_minor": 5
}
