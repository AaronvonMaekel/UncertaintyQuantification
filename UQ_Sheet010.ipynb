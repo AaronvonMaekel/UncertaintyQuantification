{
 "cells": [
  {
   "cell_type": "code",
   "execution_count": 2,
   "id": "fdbd69ec",
   "metadata": {},
   "outputs": [],
   "source": [
    "import numpy as np\n",
    "import scipy.stats.qmc as qmc\n",
    "import matplotlib.pyplot as plt\n",
    "import numpy.random as random\n",
    "\n",
    "import scipy as sp\n",
    "import scipy.integrate as integrate\n",
    "\n",
    "from tqdm import tqdm \n",
    "\n",
    "GENERATOR = np.random.default_rng(seed=None)"
   ]
  },
  {
   "cell_type": "markdown",
   "id": "696bbd34",
   "metadata": {},
   "source": [
    "# Exericse sheet 10\n"
   ]
  },
  {
   "cell_type": "code",
   "execution_count": null,
   "id": "2ddbf23a",
   "metadata": {},
   "outputs": [
    {
     "ename": "TypeError",
     "evalue": "'float' object is not iterable",
     "output_type": "error",
     "traceback": [
      "\u001b[1;31m---------------------------------------------------------------------------\u001b[0m",
      "\u001b[1;31mTypeError\u001b[0m                                 Traceback (most recent call last)",
      "Cell \u001b[1;32mIn[24], line 24\u001b[0m\n\u001b[0;32m     20\u001b[0m         \u001b[38;5;28;01mfor\u001b[39;00m j \u001b[38;5;129;01min\u001b[39;00m mesh2:\n\u001b[0;32m     21\u001b[0m             plt\u001b[38;5;241m.\u001b[39mscatter(mesh1,j ,color\u001b[38;5;241m=\u001b[39m\u001b[38;5;124m\"\u001b[39m\u001b[38;5;124mred\u001b[39m\u001b[38;5;124m\"\u001b[39m)\n\u001b[1;32m---> 24\u001b[0m \u001b[43msparse_grids_trapezoidal_2D\u001b[49m\u001b[43m(\u001b[49m\u001b[38;5;241;43m2\u001b[39;49m\u001b[43m)\u001b[49m\n",
      "Cell \u001b[1;32mIn[24], line 20\u001b[0m, in \u001b[0;36msparse_grids_trapezoidal_2D\u001b[1;34m(max_level)\u001b[0m\n\u001b[0;32m     17\u001b[0m \u001b[38;5;28;01mif\u001b[39;00m mesh2 \u001b[38;5;129;01mis\u001b[39;00m \u001b[38;5;28;01mNone\u001b[39;00m:\n\u001b[0;32m     18\u001b[0m     mesh2 \u001b[38;5;241m=\u001b[39m \u001b[38;5;241m0.5\u001b[39m\n\u001b[1;32m---> 20\u001b[0m \u001b[43m\u001b[49m\u001b[38;5;28;43;01mfor\u001b[39;49;00m\u001b[43m \u001b[49m\u001b[43mj\u001b[49m\u001b[43m \u001b[49m\u001b[38;5;129;43;01min\u001b[39;49;00m\u001b[43m \u001b[49m\u001b[43mmesh2\u001b[49m\u001b[43m:\u001b[49m\n\u001b[0;32m     21\u001b[0m \u001b[43m    \u001b[49m\u001b[43mplt\u001b[49m\u001b[38;5;241;43m.\u001b[39;49m\u001b[43mscatter\u001b[49m\u001b[43m(\u001b[49m\u001b[43mmesh1\u001b[49m\u001b[43m,\u001b[49m\u001b[43mj\u001b[49m\u001b[43m \u001b[49m\u001b[43m,\u001b[49m\u001b[43mcolor\u001b[49m\u001b[38;5;241;43m=\u001b[39;49m\u001b[38;5;124;43m\"\u001b[39;49m\u001b[38;5;124;43mred\u001b[39;49m\u001b[38;5;124;43m\"\u001b[39;49m\u001b[43m)\u001b[49m\n",
      "\u001b[1;31mTypeError\u001b[0m: 'float' object is not iterable"
     ]
    },
    {
     "data": {
      "image/png": "[encoded data removed]",
      "text/plain": [
       "<Figure size 640x480 with 1 Axes>"
      ]
     },
     "metadata": {},
     "output_type": "display_data"
    }
   ],
   "source": [
    "def f(y,s=2):\n",
    "    return (2 + 1/(2*s)) * np.prod(np.pow(y,1 + 1/(2*s)))\n",
    "\n",
    "def sparse_grids_trapezoidal_2D(max_level):\n",
    "    plt.figure()\n",
    "    for i in range(0,max_level+1):\n",
    "        n1 = 2**i\n",
    "        n2 = 2**(max_level-i)\n",
    "        if i==0:\n",
    "            mesh1=0.5\n",
    "        else:\n",
    "            mesh1 = np.linspace(0,1,n1,endpoint=False)[1:]\n",
    "        if (max_level-i)==0:\n",
    "            mesh2=0.5\n",
    "        else:\n",
    "            mesh2 = np.linspace(0,1,n2,endpoint=False)[1:]\n",
    "        if mesh2 is None:\n",
    "            mesh2 = 0.5\n",
    "        if j != 0.5:\n",
    "            for j in mesh2:\n",
    "                plt.scatter(mesh1,j ,color=\"red\")\n",
    "        else:\n",
    "            plt.scatter(mesh1,mesh2 ,color=\"red\")\n",
    "            \n",
    "\n",
    "sparse_grids_trapezoidal_2D(2)"
   ]
  },
  {
   "cell_type": "code",
   "execution_count": 17,
   "id": "8bdc3064",
   "metadata": {},
   "outputs": [],
   "source": [
    "mesh1 = np.linspace(0,1,2,endpoint=False)[1:]"
   ]
  }
 ],
 "metadata": {
  "kernelspec": {
   "display_name": "uncer2",
   "language": "python",
   "name": "python3"
  },
  "language_info": {
   "codemirror_mode": {
    "name": "ipython",
    "version": 3
   },
   "file_extension": ".py",
   "mimetype": "text/x-python",
   "name": "python",
   "nbconvert_exporter": "python",
   "pygments_lexer": "ipython3",
   "version": "3.12.3"
  }
 },
 "nbformat": 4,
 "nbformat_minor": 5
}
